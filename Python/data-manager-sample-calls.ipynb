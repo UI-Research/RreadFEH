{
 "cells": [
  {
   "cell_type": "code",
   "execution_count": 1,
   "metadata": {},
   "outputs": [],
   "source": [
    "import feh_io"
   ]
  },
  {
   "cell_type": "code",
   "execution_count": 2,
   "metadata": {},
   "outputs": [],
   "source": [
    "# Connect to the data manager\n",
    "dm = feh_io.DataManager()\n",
    "dm.connect(\"email@urban.org\", \"password123\")"
   ]
  },
  {
   "cell_type": "code",
   "execution_count": null,
   "metadata": {},
   "outputs": [],
   "source": [
    "# Get projects\n",
    "projects = dm.get_projects()\n",
    "for project in projects:\n",
    "    print(project)"
   ]
  },
  {
   "cell_type": "code",
   "execution_count": null,
   "metadata": {},
   "outputs": [],
   "source": [
    "# Get scenarios\n",
    "scenarios = dm.get_scenarios()\n",
    "for scenario in scenarios:\n",
    "    print(scenario)"
   ]
  },
  {
   "cell_type": "code",
   "execution_count": null,
   "metadata": {},
   "outputs": [],
   "source": [
    "# Get the scenarios for a specific project\n",
    "project_id = 1\n",
    "scenarios1 = dm.get_scenarios_for_project(project_id)\n",
    "for scenario in scenarios1:\n",
    "    print(scenario)"
   ]
  },
  {
   "cell_type": "code",
   "execution_count": null,
   "metadata": {},
   "outputs": [],
   "source": [
    "# Get the variables for a specific project\n",
    "project_id = 1\n",
    "variables = dm.get_variables_for_project(project_id)\n",
    "\n",
    "for var in variables:\n",
    "    print(var)"
   ]
  },
  {
   "cell_type": "code",
   "execution_count": null,
   "metadata": {},
   "outputs": [],
   "source": [
    "# Request a dataset\n",
    "project_name = \"BabyBonds\"\n",
    "scenarios = [\"Baseline_v1\", \"BabyBonds_v1\"]\n",
    "person_variables = [\"perid\", \"race\", \"sex\", \"hispanic\", \"year_died\", \"birth_year\"]\n",
    "family_variables = [\"fam_id\", \"numkids\"]\n",
    "birth_year_range = [1950, 2100] # optional\n",
    "year_range = [1950, 2100] # optional\n",
    "\n",
    "response = dm.generate_dataset(\n",
    "    project_name,\n",
    "    scenarios,\n",
    "    family_variables=family_variables,\n",
    "    person_variables=person_variables,\n",
    "    birth_year_range=birth_year_range,\n",
    "    year_range=year_range)\n",
    "\n",
    "job_id = response['job_id']"
   ]
  },
  {
   "cell_type": "code",
   "execution_count": null,
   "metadata": {},
   "outputs": [],
   "source": [
    "# View job status and get download links\n",
    "response = dm.get_dataset_status(1, \"csv\") # only `csv` or `parquet` allowed\n",
    "for k, v in response.items():\n",
    "    print(k, v)\n",
    "\n",
    "family_url = response['family_url']\n",
    "person_url = response['person_url']"
   ]
  },
  {
   "cell_type": "code",
   "execution_count": null,
   "metadata": {},
   "outputs": [],
   "source": [
    "# Download the files locally to a specified location\n",
    "# Only .zip (for csv files) or .pq allowed\n",
    "dm.download_file(family_url, \"/local/path/family_data.zip\") # only .zip or .pq allowed\n",
    "dm.download_file(person_url, \"/local/path/person_data.zip\") # only .zip or .pq allowed"
   ]
  },
  {
   "cell_type": "code",
   "execution_count": null,
   "metadata": {},
   "outputs": [],
   "source": [
    "# Request a dataset, query its status, and download the files locally using one function\n",
    "# This function checks when download files are ready every 5 seconds and downloads\n",
    "# them to specified output directory to files called family_data and person_data\n",
    "\n",
    "# Dataset specs\n",
    "project_name = \"BabyBonds\"\n",
    "scenarios = [\"Baseline_v1\", \"BabyBonds_v1\"]\n",
    "person_variables = [\"perid\", \"race\", \"sex\", \"hispanic\", \"year_died\", \"birth_year\"]\n",
    "family_variables = [\"fam_id\", \"numkids\"]\n",
    "birth_year_range = [1981, 2018] # optional\n",
    "year_range = [1950, 2100] # optional\n",
    "\n",
    "output_dir = \"/path/to/local/dir\"\n",
    "file_type = \"csv\" # `csv` or `parquet` only\n",
    "dm.get_dataset(\n",
    "    output_dir,\n",
    "    file_type,\n",
    "    project_name,\n",
    "    scenarios,\n",
    "    family_variables=family_variables,\n",
    "    person_variables=person_variables,\n",
    "    birth_year_range=birth_year_range,\n",
    "    year_range=year_range\n",
    ")\n"
   ]
  }
 ],
 "metadata": {
  "kernelspec": {
   "display_name": ".venv",
   "language": "python",
   "name": "python3"
  },
  "language_info": {
   "codemirror_mode": {
    "name": "ipython",
    "version": 3
   },
   "file_extension": ".py",
   "mimetype": "text/x-python",
   "name": "python",
   "nbconvert_exporter": "python",
   "pygments_lexer": "ipython3",
   "version": "3.13.0"
  }
 },
 "nbformat": 4,
 "nbformat_minor": 2
}
