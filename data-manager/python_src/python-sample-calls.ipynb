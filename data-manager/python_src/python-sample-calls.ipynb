{
 "cells": [
  {
   "cell_type": "code",
   "execution_count": 1,
   "metadata": {},
   "outputs": [],
   "source": [
    "import json\n",
    "from DataManager import DataManager"
   ]
  },
  {
   "cell_type": "code",
   "execution_count": 2,
   "metadata": {},
   "outputs": [],
   "source": [
    "# Connect to the data manager\n",
    "dm = DataManager()\n",
    "dm.connect(\"email@urban.org\", \"password123\")\n"
   ]
  },
  {
   "cell_type": "code",
   "execution_count": null,
   "metadata": {},
   "outputs": [],
   "source": [
    "# List projects\n",
    "response = dm.get_projects()\n",
    "for project in response.json():\n",
    "    print(project)"
   ]
  },
  {
   "cell_type": "code",
   "execution_count": null,
   "metadata": {},
   "outputs": [],
   "source": [
    "# List all scenarios\n",
    "response = dm.get_scenarios()\n",
    "for scenario in response.json():\n",
    "    print(scenario)"
   ]
  },
  {
   "cell_type": "code",
   "execution_count": null,
   "metadata": {},
   "outputs": [],
   "source": [
    "# List the scenarios for a specific project\n",
    "response = dm.get_scenarios_for_project(1)\n",
    "for scenario in response.json():\n",
    "    print(scenario)"
   ]
  },
  {
   "cell_type": "code",
   "execution_count": null,
   "metadata": {},
   "outputs": [],
   "source": [
    "# List the variables for a specific project\n",
    "response = dm.get_variables_for_project(1)\n",
    "response = json.loads(json.loads(response.text))\n",
    "for var_group in response:\n",
    "    print(var_group)"
   ]
  },
  {
   "cell_type": "code",
   "execution_count": null,
   "metadata": {},
   "outputs": [],
   "source": [
    "project_name = \"BabyBonds\"\n",
    "scenarios = [\"Baseline_v1\", \"BabyBonds_v1\"]\n",
    "person_variables = [\"perid\", \"race\", \"sex\", \"hispanic\", \"year_died\", \"birth_year\"]\n",
    "family_variables = [\"fam_id\", \"numkids\"]\n",
    "birth_year_range = [1981, 2018] # optional\n",
    "year_range = [1950, 2100] # optional\n",
    "\n",
    "response = dm.generate_dataset(\n",
    "    project_name,\n",
    "    scenarios,\n",
    "    family_variables=family_variables,\n",
    "    person_variables=person_variables,\n",
    "    birth_year_range=birth_year_range,\n",
    "    year_range=year_range)\n",
    "\n",
    "job_id = response.json()['job_id']\n",
    "print(f'Job ID: {job_id}')"
   ]
  },
  {
   "cell_type": "code",
   "execution_count": null,
   "metadata": {},
   "outputs": [],
   "source": [
    "# View job status and get download links\n",
    "response = dm.get_dataset_status(job_id, \"csv\") # only `csv` or `parquet` allowed\n",
    "for k, v in response.json().items():\n",
    "    print(k, v)\n",
    "\n",
    "family_url = response.json()['family_url']\n",
    "person_url = response.json()['person_url']"
   ]
  },
  {
   "cell_type": "code",
   "execution_count": null,
   "metadata": {},
   "outputs": [],
   "source": [
    "# Download the files locally to a specified location\n",
    "# Only .zip (for csv files) or .pq allowed\n",
    "dm.download_file(family_url, \"/path/to/download.zip\") # only .zip or .pq allowed\n",
    "dm.download_file(person_url, \"/path/to/download.zip\") # only .zip or .pq allowed"
   ]
  },
  {
   "cell_type": "code",
   "execution_count": null,
   "metadata": {},
   "outputs": [],
   "source": [
    "# Request a dataset, query its status, and download the files locally using one function\n",
    "# This function checks when download files are ready every 5 seconds and downloads\n",
    "# them to specified output directory to files called family_data and person_data\n",
    "\n",
    "# Dataset specs\n",
    "project_name = \"BabyBonds\"\n",
    "scenarios = [\"Baseline_v1\", \"BabyBonds_v1\"]\n",
    "person_variables = [\"perid\", \"race\", \"sex\", \"hispanic\", \"year_died\", \"birth_year\"]\n",
    "family_variables = [\"fam_id\", \"numkids\"]\n",
    "birth_year_range = [1981, 2018] # optional\n",
    "year_range = [1950, 2100] # optional\n",
    "\n",
    "output_dir = \"/path/to/local/dir\"\n",
    "output_dir = \"/Users/epark/Downloads\"\n",
    "file_type = \"csv\" # `csv` or `parquet` only\n",
    "dm.get_dataset(\n",
    "    output_dir,\n",
    "    file_type,\n",
    "    project_name,\n",
    "    scenarios,\n",
    "    family_variables=family_variables,\n",
    "    person_variables=person_variables,\n",
    "    birth_year_range=birth_year_range,\n",
    "    year_range=year_range\n",
    ")\n"
   ]
  }
 ],
 "metadata": {
  "kernelspec": {
   "display_name": ".venv",
   "language": "python",
   "name": "python3"
  },
  "language_info": {
   "codemirror_mode": {
    "name": "ipython",
    "version": 3
   },
   "file_extension": ".py",
   "mimetype": "text/x-python",
   "name": "python",
   "nbconvert_exporter": "python",
   "pygments_lexer": "ipython3",
   "version": "3.13.0"
  }
 },
 "nbformat": 4,
 "nbformat_minor": 2
}
